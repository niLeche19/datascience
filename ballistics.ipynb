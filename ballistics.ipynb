{
 "cells": [
  {
   "cell_type": "markdown",
   "metadata": {},
   "source": [
    "# Ballistics and the Range Equation\n",
    "This is an investigation of the so-called *range equation*: $d=\\frac {v^2} g \\sin 2\\theta$.\n",
    "\n",
    "You can write text with *italics*.\n",
    "You can write text with **bold**.\n",
    "\n",
    "You can begin new paragraphs by inserting a blank space.\n",
    "\n",
    "You can \n",
    "* write text\n",
    "* with bullets\n",
    "\n",
    "You can insert\n",
    "1. Numbered\n",
    "2. Bullets\n",
    "\n",
    "This also supports several levels of subheading\n",
    "\n",
    "## Sub-heading 1\n",
    "### Sub-heading 2\n",
    "#### Sub-heading 3\n",
    "\n",
    "\n",
    "And you can add ***bold and italic*** text!\n",
    "\n",
    "Do you want to add a hyperlink? How about the documentation for markdown at [Daring Fireball](https://daringfireball.net/projects/markdown/syntax). See the reference for more challenging situations.\n",
    "OP website [Chicken On A Raft](https://chickenonaraft.com/)"
   ]
  },
  {
   "cell_type": "code",
   "execution_count": null,
   "metadata": {},
   "outputs": [],
   "source": []
  }
 ],
 "metadata": {
  "kernelspec": {
   "display_name": "Python 3",
   "language": "python",
   "name": "python3"
  },
  "language_info": {
   "codemirror_mode": {
    "name": "ipython",
    "version": 3
   },
   "file_extension": ".py",
   "mimetype": "text/x-python",
   "name": "python",
   "nbconvert_exporter": "python",
   "pygments_lexer": "ipython3",
   "version": "3.5.2"
  }
 },
 "nbformat": 4,
 "nbformat_minor": 2
}
